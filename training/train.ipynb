{
 "cells": [
  {
   "cell_type": "code",
   "execution_count": 33,
   "metadata": {},
   "outputs": [],
   "source": [
    "import tensorflow as tf\n",
    "from tensorflow.keras.preprocessing.text import Tokenizer\n",
    "from tensorflow.keras.layers import Embedding, LSTM, Dense\n",
    "from tensorflow.keras.models import Sequential\n",
    "from tensorflow.keras.utils import to_categorical\n",
    "from tensorflow.keras.optimizers import Adam\n",
    "import pickle\n",
    "import numpy as np\n",
    "import pandas as pd\n",
    "import os\n"
   ]
  },
  {
   "cell_type": "code",
   "execution_count": 34,
   "metadata": {},
   "outputs": [
    {
     "data": {
      "text/html": [
       "<div>\n",
       "<style scoped>\n",
       "    .dataframe tbody tr th:only-of-type {\n",
       "        vertical-align: middle;\n",
       "    }\n",
       "\n",
       "    .dataframe tbody tr th {\n",
       "        vertical-align: top;\n",
       "    }\n",
       "\n",
       "    .dataframe thead th {\n",
       "        text-align: right;\n",
       "    }\n",
       "</style>\n",
       "<table border=\"1\" class=\"dataframe\">\n",
       "  <thead>\n",
       "    <tr style=\"text-align: right;\">\n",
       "      <th></th>\n",
       "      <th>0</th>\n",
       "    </tr>\n",
       "  </thead>\n",
       "  <tbody>\n",
       "    <tr>\n",
       "      <th>0</th>\n",
       "      <td>ሐምሌ 7 ቀን 1971 ዓ.ም. ዕለተ ቅዳሜ ከታላቁ ቤተ መንግሥት ምድር ቤ...</td>\n",
       "    </tr>\n",
       "    <tr>\n",
       "      <th>1</th>\n",
       "      <td>ከቀኑ 6፡00 ሰዓት ላይ ከእስረኛ ክፍል ቁጥር 2 የሚፈለጉት ሰዎች ሥም ...</td>\n",
       "    </tr>\n",
       "    <tr>\n",
       "      <th>2</th>\n",
       "      <td>”ልጅ ካሳ ወ/ማርያም፤ ብ/ጄ ሳሙኤል አበበ!” ከዚያም ”ወደ ውጭ ትፈለጋ...</td>\n",
       "    </tr>\n",
       "    <tr>\n",
       "      <th>3</th>\n",
       "      <td>በዚህ ጊዜ ልጅ ካሳ ወ/ማርያም ወደ ፓትርያርክ ቴዎፍሎስ ቀርበው፤</td>\n",
       "    </tr>\n",
       "    <tr>\n",
       "      <th>4</th>\n",
       "      <td>”አባታችን ሊገሉን ነው፤ ይፍቱኝ!” አሏቸው። እሳቸውም ”እግዚአብሔር ይፍ...</td>\n",
       "    </tr>\n",
       "  </tbody>\n",
       "</table>\n",
       "</div>"
      ],
      "text/plain": [
       "                                                   0\n",
       "0  ሐምሌ 7 ቀን 1971 ዓ.ም. ዕለተ ቅዳሜ ከታላቁ ቤተ መንግሥት ምድር ቤ...\n",
       "1  ከቀኑ 6፡00 ሰዓት ላይ ከእስረኛ ክፍል ቁጥር 2 የሚፈለጉት ሰዎች ሥም ...\n",
       "2  ”ልጅ ካሳ ወ/ማርያም፤ ብ/ጄ ሳሙኤል አበበ!” ከዚያም ”ወደ ውጭ ትፈለጋ...\n",
       "3          በዚህ ጊዜ ልጅ ካሳ ወ/ማርያም ወደ ፓትርያርክ ቴዎፍሎስ ቀርበው፤\n",
       "4  ”አባታችን ሊገሉን ነው፤ ይፍቱኝ!” አሏቸው። እሳቸውም ”እግዚአብሔር ይፍ..."
      ]
     },
     "execution_count": 34,
     "metadata": {},
     "output_type": "execute_result"
    }
   ],
   "source": [
    "df = pd.read_table(\"../data/data.txt\")\n",
    "df.head()"
   ]
  },
  {
   "cell_type": "code",
   "execution_count": 35,
   "metadata": {},
   "outputs": [
    {
     "data": {
      "text/plain": [
       "(1146, 1)"
      ]
     },
     "execution_count": 35,
     "metadata": {},
     "output_type": "execute_result"
    }
   ],
   "source": [
    "df.shape"
   ]
  },
  {
   "cell_type": "code",
   "execution_count": 36,
   "metadata": {},
   "outputs": [
    {
     "data": {
      "text/plain": [
       "['ሐምሌ 7 ቀን 1971 ዓ.ም. ዕለተ ቅዳሜ ከታላቁ ቤተ መንግሥት ምድር ቤት እስረኞች መካከል የክርስትና እምነት ተከታዮች የሆኑት በጠዋት ተነስተው በአባቶች መሪነት ጸሎት አድርሰዋል። የቅድስት ሥላሴ ካቴድራል ደውል ድምፅ ሲያስተጋባ ሰምተዋል። ፈጣሪያቸውን አውቀው በድፍረት ሳያውቁ በስህተት የፈፀሙትን በደል ይቅር እንዲላቸው ተማጽነዋል። ከጸሎት በኋላ እስረኞቹ ጧት ፀሐይ ለመሞቅና አየር ለመቀበል የተፈቀደላቸው ለ45 ደቂቃ ጊዜ አጠናቀው ወደየክፍሎቻው ተመልሰው ተቆልፎባቸዋል። የሐምሌ ፀሐይ በቀዝቃዛው በታላቁ ቤተ መንግሥት ምድር ቤት ውስጥ የታጎሩትን ታላላቅ ኢትዮጵያውያን ለማጽናናት የተላከች ይመስላል፤ ሰማዩን በጋረደው ደመና መካከል ብልጭ ድርግም ትላለች።',\n",
       " 'ከቀኑ 6፡00 ሰዓት ላይ ከእስረኛ ክፍል ቁጥር 2 የሚፈለጉት ሰዎች ሥም ዝርዝር በመጥራት፤ ”ራቅ ወዳለ ቦታ ስለምትሄዱ ብርድ ልብስ እና ሶፍት ያዙ” ተብሎ ተነገራቸው … በመቀጠልም ወደ ክፍል 1 በእስረኞች አለቃ አማካኝነት የሚፈልጉትን የእስረኛ ሥም መጥራት ጀመሩ …',\n",
       " '”ልጅ ካሳ ወ/ማርያም፤ ብ/ጄ ሳሙኤል አበበ!” ከዚያም ”ወደ ውጭ ትፈለጋላችሁ፤ የምትሄዱበት ራቅ ወደአለ ቦታ ስለሆነ የብርድ ልብስና የሽንት ቤት ወረቀት ያዙ ተብሏል” አሉ።',\n",
       " 'በዚህ ጊዜ ልጅ ካሳ ወ/ማርያም ወደ ፓትርያርክ ቴዎፍሎስ ቀርበው፤',\n",
       " '”አባታችን ሊገሉን ነው፤ ይፍቱኝ!” አሏቸው። እሳቸውም ”እግዚአብሔር ይፍታ፤ አይዞህ አትፍራ ሥጋህን እንጂ ነፍስህን አይገድሏትም” አሏቸው። ልጅ ካሳ ወ/ማርያም መስቀል ተሳልመው ከወጡ ከጥቂት ጊዜ በኋላ ፓትርያርክ ቴዎፍሎስ ስማቸው ተጠራ። ፓትያርኩ ስማቸው ሲጠራ ከደረጃው ሥር ወዳለው መኝታቸው በመሔድ የሚፈልጉትን ልብስ መርጠው ከለበሱ በኋላ ጸሎት ማድረስ ጀመሩ፤ በዚህ ሁኔታ በርካታ ደቂቃዎች አለፉ፤ የመንፈስ አባታቸው አቡነ ዮሐንስ ከዓመታት በፊት ”… ፍጻሜአቸው መከራ የበዛበት ይሆናል” ብለው የተናገሩት ትንቢት ቀኑ ደረሰ።']"
      ]
     },
     "execution_count": 36,
     "metadata": {},
     "output_type": "execute_result"
    }
   ],
   "source": [
    "#converting to list\n",
    "lines = []\n",
    "for index, row in df.iterrows():\n",
    "    lines.append(row['0'])\n",
    "\n",
    "lines[:5]"
   ]
  },
  {
   "cell_type": "code",
   "execution_count": 37,
   "metadata": {},
   "outputs": [
    {
     "data": {
      "text/plain": [
       "'ሐምሌ 7 ቀን 1971 ዓ.ም. ዕለተ ቅዳሜ ከታላቁ ቤተ መንግሥት ምድር ቤት እስ'"
      ]
     },
     "execution_count": 37,
     "metadata": {},
     "output_type": "execute_result"
    }
   ],
   "source": [
    "#converting list to string\n",
    "data = \"\"\n",
    "for i in lines:\n",
    "    data = ' '.join(lines)\n",
    "\n",
    "data[:50]"
   ]
  },
  {
   "cell_type": "code",
   "execution_count": 38,
   "metadata": {},
   "outputs": [
    {
     "data": {
      "text/plain": [
       "'ሐምሌ 7 ቀን 1971 ዓ ም ዕለተ ቅዳሜ ከታላቁ ቤተ መንግሥት ምድር ቤት እስረ'"
      ]
     },
     "execution_count": 38,
     "metadata": {},
     "output_type": "execute_result"
    }
   ],
   "source": [
    "#replacing unnecessary characters with space\n",
    "data = data.replace('\\n', ' ').replace('.', ' ').replace(\n",
    "    ',', ' ').replace('\"', ' ').replace(';', ' ').replace('!', ' ')\n",
    "data = data.replace('?', ' ').replace('(', ' ').replace(')', ' ').replace(\n",
    "    '--', ' ').replace('።', ' ').replace('፣', ' ')\n",
    "data = data.replace(':', ' ').replace(\n",
    "    '፤', ' ').replace('…', ' ').replace('”', ' ')\n",
    "\n",
    "#remove unnecessary spaces\n",
    "data = data.split()\n",
    "data = ' '.join(data)\n",
    "data[:50]\n"
   ]
  },
  {
   "cell_type": "code",
   "execution_count": 39,
   "metadata": {},
   "outputs": [
    {
     "name": "stdout",
     "output_type": "stream",
     "text": [
      "22001\n"
     ]
    }
   ],
   "source": [
    "print(len(data.split()))"
   ]
  },
  {
   "cell_type": "code",
   "execution_count": 40,
   "metadata": {},
   "outputs": [
    {
     "data": {
      "text/plain": [
       "111487"
      ]
     },
     "execution_count": 40,
     "metadata": {},
     "output_type": "execute_result"
    }
   ],
   "source": [
    "len(data)"
   ]
  },
  {
   "cell_type": "code",
   "execution_count": 41,
   "metadata": {},
   "outputs": [
    {
     "data": {
      "text/plain": [
       "[520, 270, 29, 2783, 57, 51, 1448, 681, 2784, 227, 67, 333, 22, 271, 59]"
      ]
     },
     "execution_count": 41,
     "metadata": {},
     "output_type": "execute_result"
    }
   ],
   "source": [
    "tokenizer = Tokenizer()\n",
    "tokenizer.fit_on_texts([data])\n",
    "\n",
    "#saving the tokenizer for prediction function\n",
    "pickle.dump(tokenizer, open('../token/token.pkl', 'wb'))\n",
    "\n",
    "sequence_data = tokenizer.texts_to_sequences([data])[0]\n",
    "sequence_data[:15]"
   ]
  },
  {
   "cell_type": "code",
   "execution_count": 42,
   "metadata": {},
   "outputs": [
    {
     "data": {
      "text/plain": [
       "22094"
      ]
     },
     "execution_count": 42,
     "metadata": {},
     "output_type": "execute_result"
    }
   ],
   "source": [
    "len(sequence_data)"
   ]
  },
  {
   "cell_type": "code",
   "execution_count": 43,
   "metadata": {},
   "outputs": [
    {
     "name": "stdout",
     "output_type": "stream",
     "text": [
      "11369\n"
     ]
    }
   ],
   "source": [
    "vocab_size = len(tokenizer.word_index) + 1\n",
    "print(vocab_size)\n"
   ]
  },
  {
   "cell_type": "code",
   "execution_count": 44,
   "metadata": {},
   "outputs": [
    {
     "name": "stdout",
     "output_type": "stream",
     "text": [
      "The Length of sequences are:  22091\n"
     ]
    },
    {
     "data": {
      "text/plain": [
       "array([[ 520,  270,   29, 2783],\n",
       "       [ 270,   29, 2783,   57],\n",
       "       [  29, 2783,   57,   51],\n",
       "       [2783,   57,   51, 1448],\n",
       "       [  57,   51, 1448,  681],\n",
       "       [  51, 1448,  681, 2784],\n",
       "       [1448,  681, 2784,  227],\n",
       "       [ 681, 2784,  227,   67],\n",
       "       [2784,  227,   67,  333],\n",
       "       [ 227,   67,  333,   22]])"
      ]
     },
     "execution_count": 44,
     "metadata": {},
     "output_type": "execute_result"
    }
   ],
   "source": [
    "sequences = []\n",
    "\n",
    "for i in range(3, len(sequence_data)):\n",
    "    words = sequence_data[i-3:i+1]\n",
    "    sequences.append(words)\n",
    "\n",
    "print(\"The Length of sequences are: \", len(sequences))\n",
    "sequences = np.array(sequences)\n",
    "sequences[:10]\n"
   ]
  },
  {
   "cell_type": "code",
   "execution_count": 45,
   "metadata": {},
   "outputs": [],
   "source": [
    "x = []\n",
    "y = []\n",
    "\n",
    "for i in sequences:\n",
    "    x.append(i[0:3])\n",
    "    y.append(i[3])\n",
    "\n",
    "x = np.array(x)\n",
    "y = np.array(y)\n"
   ]
  },
  {
   "cell_type": "code",
   "execution_count": 46,
   "metadata": {},
   "outputs": [
    {
     "name": "stdout",
     "output_type": "stream",
     "text": [
      "Data:  [[ 520  270   29]\n",
      " [ 270   29 2783]\n",
      " [  29 2783   57]\n",
      " [2783   57   51]\n",
      " [  57   51 1448]\n",
      " [  51 1448  681]\n",
      " [1448  681 2784]\n",
      " [ 681 2784  227]\n",
      " [2784  227   67]\n",
      " [ 227   67  333]]\n",
      "Response:  [2783   57   51 1448  681 2784  227   67  333   22]\n"
     ]
    }
   ],
   "source": [
    "print(\"Data: \", x[:10])\n",
    "print(\"Response: \", y[:10])\n"
   ]
  },
  {
   "cell_type": "code",
   "execution_count": 47,
   "metadata": {},
   "outputs": [
    {
     "data": {
      "text/plain": [
       "array([[0., 0., 0., ..., 0., 0., 0.],\n",
       "       [0., 0., 0., ..., 0., 0., 0.],\n",
       "       [0., 0., 0., ..., 0., 0., 0.],\n",
       "       [0., 0., 0., ..., 0., 0., 0.],\n",
       "       [0., 0., 0., ..., 0., 0., 0.]], dtype=float32)"
      ]
     },
     "execution_count": 47,
     "metadata": {},
     "output_type": "execute_result"
    }
   ],
   "source": [
    "y = to_categorical(y, num_classes=vocab_size)\n",
    "y[:5]\n"
   ]
  },
  {
   "cell_type": "markdown",
   "metadata": {},
   "source": [
    "Creating our prediction model"
   ]
  },
  {
   "cell_type": "code",
   "execution_count": 48,
   "metadata": {},
   "outputs": [],
   "source": [
    "model = Sequential()\n",
    "model.add(Embedding(vocab_size, 10, input_length=3))\n",
    "model.add(LSTM(1000, return_sequences=True))\n",
    "model.add(LSTM(1000))\n",
    "model.add(Dense(1000, activation=\"relu\"))\n",
    "model.add(Dense(vocab_size, activation=\"softmax\"))\n"
   ]
  },
  {
   "cell_type": "code",
   "execution_count": 49,
   "metadata": {},
   "outputs": [
    {
     "name": "stdout",
     "output_type": "stream",
     "text": [
      "Model: \"sequential_1\"\n",
      "_________________________________________________________________\n",
      " Layer (type)                Output Shape              Param #   \n",
      "=================================================================\n",
      " embedding_1 (Embedding)     (None, 3, 10)             113690    \n",
      "                                                                 \n",
      " lstm_2 (LSTM)               (None, 3, 1000)           4044000   \n",
      "                                                                 \n",
      " lstm_3 (LSTM)               (None, 1000)              8004000   \n",
      "                                                                 \n",
      " dense_2 (Dense)             (None, 1000)              1001000   \n",
      "                                                                 \n",
      " dense_3 (Dense)             (None, 11369)             11380369  \n",
      "                                                                 \n",
      "=================================================================\n",
      "Total params: 24,543,059\n",
      "Trainable params: 24,543,059\n",
      "Non-trainable params: 0\n",
      "_________________________________________________________________\n"
     ]
    }
   ],
   "source": [
    "model.summary()\n"
   ]
  },
  {
   "cell_type": "markdown",
   "metadata": {},
   "source": [
    "Our Model Plot"
   ]
  },
  {
   "cell_type": "code",
   "execution_count": 50,
   "metadata": {},
   "outputs": [
    {
     "data": {
      "image/png": "[encoded data removed]",
      "text/plain": [
       "<IPython.core.display.Image object>"
      ]
     },
     "execution_count": 50,
     "metadata": {},
     "output_type": "execute_result"
    }
   ],
   "source": [
    "from tensorflow import keras\n",
    "from keras.utils.vis_utils import plot_model\n",
    "\n",
    "keras.utils.plot_model(model, to_file='plot.png', show_layer_names=True)\n"
   ]
  },
  {
   "cell_type": "markdown",
   "metadata": {},
   "source": [
    "Building Our Model"
   ]
  },
  {
   "cell_type": "code",
   "execution_count": 52,
   "metadata": {},
   "outputs": [
    {
     "name": "stdout",
     "output_type": "stream",
     "text": [
      "Epoch 1/5\n",
      "346/346 [==============================] - ETA: 0s - loss: 9.2472\n",
      "Epoch 00001: loss improved from inf to 9.24717, saving model to ../model\\next_words.h5\n",
      "346/346 [==============================] - 215s 585ms/step - loss: 9.2472\n",
      "Epoch 2/5\n",
      "346/346 [==============================] - ETA: 0s - loss: 8.8182\n",
      "Epoch 00002: loss improved from 9.24717 to 8.81821, saving model to ../model\\next_words.h5\n",
      "346/346 [==============================] - 269s 779ms/step - loss: 8.8182\n",
      "Epoch 3/5\n",
      "346/346 [==============================] - ETA: 0s - loss: 8.7645\n",
      "Epoch 00003: loss improved from 8.81821 to 8.76451, saving model to ../model\\next_words.h5\n",
      "346/346 [==============================] - 250s 721ms/step - loss: 8.7645\n",
      "Epoch 4/5\n",
      "346/346 [==============================] - ETA: 0s - loss: 8.7493\n",
      "Epoch 00004: loss improved from 8.76451 to 8.74928, saving model to ../model\\next_words.h5\n",
      "346/346 [==============================] - 239s 690ms/step - loss: 8.7493\n",
      "Epoch 5/5\n",
      "346/346 [==============================] - ETA: 0s - loss: 8.7179\n",
      "Epoch 00005: loss improved from 8.74928 to 8.71794, saving model to ../model\\next_words.h5\n",
      "346/346 [==============================] - 238s 686ms/step - loss: 8.7179\n"
     ]
    },
    {
     "data": {
      "text/plain": [
       "<keras.callbacks.History at 0x1aaf17b5e20>"
      ]
     },
     "execution_count": 52,
     "metadata": {},
     "output_type": "execute_result"
    }
   ],
   "source": [
    "from tensorflow.keras.callbacks import ModelCheckpoint\n",
    "\n",
    "checkpoint = ModelCheckpoint(\n",
    "    \"../model/next_words.h5\", monitor='loss', verbose=1, save_best_only=True)\n",
    "model.compile(loss=\"categorical_crossentropy\",\n",
    "              optimizer=Adam(learning_rate=0.010))\n",
    "model.fit(x, y, epochs=5, batch_size=64, callbacks=[checkpoint])\n"
   ]
  },
  {
   "cell_type": "markdown",
   "metadata": {},
   "source": [
    "Prediction"
   ]
  },
  {
   "cell_type": "code",
   "execution_count": 53,
   "metadata": {},
   "outputs": [],
   "source": [
    "from tensorflow.keras.models import load_model\n",
    "import numpy as np\n",
    "import pickle\n",
    "\n",
    "# Load the model and tokenizer\n",
    "model = load_model('../model/next_words.h5')\n",
    "tokenizer = pickle.load(open('../token/token.pkl', 'rb'))\n",
    "\n",
    "\n",
    "def Predict_Next_Words(model, tokenizer, text):\n",
    "\n",
    "  sequence = tokenizer.texts_to_sequences([text])\n",
    "  sequence = np.array(sequence)\n",
    "  preds = np.argmax(model.predict(sequence))\n",
    "  predicted_word = \"\"\n",
    "\n",
    "  for key, value in tokenizer.word_index.items():\n",
    "      if value == preds:\n",
    "          predicted_word = key\n",
    "          break\n",
    "\n",
    "  print(predicted_word)\n",
    "  return predicted_word\n"
   ]
  },
  {
   "cell_type": "code",
   "execution_count": null,
   "metadata": {},
   "outputs": [],
   "source": [
    "while(True):\n",
    "    text = input(\"Enter Amharic phrase with 3 words minimum: \")\n",
    "  \n",
    "    if text == \"0\":\n",
    "        print(\"Execution completed.....\")\n",
    "        break\n",
    "    \n",
    "    else:\n",
    "        try:\n",
    "            text = text.split(\" \")\n",
    "            text = text[-3:]\n",
    "            print(text)\n",
    "            \n",
    "            Predict_Next_Words(model, tokenizer, text)\n",
    "            \n",
    "        except Exception as e:\n",
    "            print(\"Error occurred: \",e)\n",
    "            continue"
   ]
  }
 ],
 "metadata": {
  "interpreter": {
   "hash": "fb44f7634b4e701af3f8169b1c84ce89328666fba033e350309163bcea052a2b"
  },
  "kernelspec": {
   "display_name": "Python 3.9.7 64-bit ('base': conda)",
   "language": "python",
   "name": "python3"
  },
  "language_info": {
   "codemirror_mode": {
    "name": "ipython",
    "version": 3
   },
   "file_extension": ".py",
   "mimetype": "text/x-python",
   "name": "python",
   "nbconvert_exporter": "python",
   "pygments_lexer": "ipython3",
   "version": "3.9.7"
  },
  "orig_nbformat": 4
 },
 "nbformat": 4,
 "nbformat_minor": 2
}
