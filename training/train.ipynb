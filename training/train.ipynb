{
 "cells": [
  {
   "cell_type": "code",
   "execution_count": 3,
   "metadata": {},
   "outputs": [],
   "source": [
    "import tensorflow as tf\n",
    "from tensorflow.keras.preprocessing.text import Tokenizer\n",
    "from tensorflow.keras.layers import Embedding, LSTM, Dense\n",
    "from tensorflow.keras.models import Sequential\n",
    "from tensorflow.keras.utils import to_categorical\n",
    "from tensorflow.keras.optimizers import Adam\n",
    "import pickle\n",
    "import numpy as np\n",
    "import pandas as pd\n",
    "import os\n"
   ]
  },
  {
   "cell_type": "code",
   "execution_count": 5,
   "metadata": {},
   "outputs": [
    {
     "data": {
      "text/html": [
       "<div>\n",
       "<style scoped>\n",
       "    .dataframe tbody tr th:only-of-type {\n",
       "        vertical-align: middle;\n",
       "    }\n",
       "\n",
       "    .dataframe tbody tr th {\n",
       "        vertical-align: top;\n",
       "    }\n",
       "\n",
       "    .dataframe thead th {\n",
       "        text-align: right;\n",
       "    }\n",
       "</style>\n",
       "<table border=\"1\" class=\"dataframe\">\n",
       "  <thead>\n",
       "    <tr style=\"text-align: right;\">\n",
       "      <th></th>\n",
       "      <th>0</th>\n",
       "    </tr>\n",
       "  </thead>\n",
       "  <tbody>\n",
       "    <tr>\n",
       "      <th>0</th>\n",
       "      <td>ሐምሌ 7 ቀን 1971 ዓ.ም. ዕለተ ቅዳሜ ከታላቁ ቤተ መንግሥት ምድር ቤ...</td>\n",
       "    </tr>\n",
       "    <tr>\n",
       "      <th>1</th>\n",
       "      <td>ከቀኑ 6፡00 ሰዓት ላይ ከእስረኛ ክፍል ቁጥር 2 የሚፈለጉት ሰዎች ሥም ...</td>\n",
       "    </tr>\n",
       "    <tr>\n",
       "      <th>2</th>\n",
       "      <td>”ልጅ ካሳ ወ/ማርያም፤ ብ/ጄ ሳሙኤል አበበ!” ከዚያም ”ወደ ውጭ ትፈለጋ...</td>\n",
       "    </tr>\n",
       "    <tr>\n",
       "      <th>3</th>\n",
       "      <td>በዚህ ጊዜ ልጅ ካሳ ወ/ማርያም ወደ ፓትርያርክ ቴዎፍሎስ ቀርበው፤</td>\n",
       "    </tr>\n",
       "    <tr>\n",
       "      <th>4</th>\n",
       "      <td>”አባታችን ሊገሉን ነው፤ ይፍቱኝ!” አሏቸው። እሳቸውም ”እግዚአብሔር ይፍ...</td>\n",
       "    </tr>\n",
       "  </tbody>\n",
       "</table>\n",
       "</div>"
      ],
      "text/plain": [
       "                                                   0\n",
       "0  ሐምሌ 7 ቀን 1971 ዓ.ም. ዕለተ ቅዳሜ ከታላቁ ቤተ መንግሥት ምድር ቤ...\n",
       "1  ከቀኑ 6፡00 ሰዓት ላይ ከእስረኛ ክፍል ቁጥር 2 የሚፈለጉት ሰዎች ሥም ...\n",
       "2  ”ልጅ ካሳ ወ/ማርያም፤ ብ/ጄ ሳሙኤል አበበ!” ከዚያም ”ወደ ውጭ ትፈለጋ...\n",
       "3          በዚህ ጊዜ ልጅ ካሳ ወ/ማርያም ወደ ፓትርያርክ ቴዎፍሎስ ቀርበው፤\n",
       "4  ”አባታችን ሊገሉን ነው፤ ይፍቱኝ!” አሏቸው። እሳቸውም ”እግዚአብሔር ይፍ..."
      ]
     },
     "execution_count": 5,
     "metadata": {},
     "output_type": "execute_result"
    }
   ],
   "source": [
    "df = pd.read_table(\"../data/data.txt\")\n",
    "df.head()"
   ]
  },
  {
   "cell_type": "code",
   "execution_count": 10,
   "metadata": {},
   "outputs": [
    {
     "data": {
      "text/plain": [
       "(1146, 1)"
      ]
     },
     "execution_count": 10,
     "metadata": {},
     "output_type": "execute_result"
    }
   ],
   "source": [
    "df.shape"
   ]
  },
  {
   "cell_type": "code",
   "execution_count": 11,
   "metadata": {},
   "outputs": [
    {
     "data": {
      "text/plain": [
       "['ሐምሌ 7 ቀን 1971 ዓ.ም. ዕለተ ቅዳሜ ከታላቁ ቤተ መንግሥት ምድር ቤት እስረኞች መካከል የክርስትና እምነት ተከታዮች የሆኑት በጠዋት ተነስተው በአባቶች መሪነት ጸሎት አድርሰዋል። የቅድስት ሥላሴ ካቴድራል ደውል ድምፅ ሲያስተጋባ ሰምተዋል። ፈጣሪያቸውን አውቀው በድፍረት ሳያውቁ በስህተት የፈፀሙትን በደል ይቅር እንዲላቸው ተማጽነዋል። ከጸሎት በኋላ እስረኞቹ ጧት ፀሐይ ለመሞቅና አየር ለመቀበል የተፈቀደላቸው ለ45 ደቂቃ ጊዜ አጠናቀው ወደየክፍሎቻው ተመልሰው ተቆልፎባቸዋል። የሐምሌ ፀሐይ በቀዝቃዛው በታላቁ ቤተ መንግሥት ምድር ቤት ውስጥ የታጎሩትን ታላላቅ ኢትዮጵያውያን ለማጽናናት የተላከች ይመስላል፤ ሰማዩን በጋረደው ደመና መካከል ብልጭ ድርግም ትላለች።',\n",
       " 'ከቀኑ 6፡00 ሰዓት ላይ ከእስረኛ ክፍል ቁጥር 2 የሚፈለጉት ሰዎች ሥም ዝርዝር በመጥራት፤ ”ራቅ ወዳለ ቦታ ስለምትሄዱ ብርድ ልብስ እና ሶፍት ያዙ” ተብሎ ተነገራቸው … በመቀጠልም ወደ ክፍል 1 በእስረኞች አለቃ አማካኝነት የሚፈልጉትን የእስረኛ ሥም መጥራት ጀመሩ …',\n",
       " '”ልጅ ካሳ ወ/ማርያም፤ ብ/ጄ ሳሙኤል አበበ!” ከዚያም ”ወደ ውጭ ትፈለጋላችሁ፤ የምትሄዱበት ራቅ ወደአለ ቦታ ስለሆነ የብርድ ልብስና የሽንት ቤት ወረቀት ያዙ ተብሏል” አሉ።',\n",
       " 'በዚህ ጊዜ ልጅ ካሳ ወ/ማርያም ወደ ፓትርያርክ ቴዎፍሎስ ቀርበው፤',\n",
       " '”አባታችን ሊገሉን ነው፤ ይፍቱኝ!” አሏቸው። እሳቸውም ”እግዚአብሔር ይፍታ፤ አይዞህ አትፍራ ሥጋህን እንጂ ነፍስህን አይገድሏትም” አሏቸው። ልጅ ካሳ ወ/ማርያም መስቀል ተሳልመው ከወጡ ከጥቂት ጊዜ በኋላ ፓትርያርክ ቴዎፍሎስ ስማቸው ተጠራ። ፓትያርኩ ስማቸው ሲጠራ ከደረጃው ሥር ወዳለው መኝታቸው በመሔድ የሚፈልጉትን ልብስ መርጠው ከለበሱ በኋላ ጸሎት ማድረስ ጀመሩ፤ በዚህ ሁኔታ በርካታ ደቂቃዎች አለፉ፤ የመንፈስ አባታቸው አቡነ ዮሐንስ ከዓመታት በፊት ”… ፍጻሜአቸው መከራ የበዛበት ይሆናል” ብለው የተናገሩት ትንቢት ቀኑ ደረሰ።']"
      ]
     },
     "execution_count": 11,
     "metadata": {},
     "output_type": "execute_result"
    }
   ],
   "source": [
    "#converting to list\n",
    "lines = []\n",
    "for index, row in df.iterrows():\n",
    "    lines.append(row['0'])\n",
    "\n",
    "lines[:5]"
   ]
  },
  {
   "cell_type": "code",
   "execution_count": 13,
   "metadata": {},
   "outputs": [
    {
     "data": {
      "text/plain": [
       "'ሐምሌ 7 ቀን 1971 ዓ.ም. ዕለተ ቅዳሜ ከታላቁ ቤተ መንግሥት ምድር ቤት እስ'"
      ]
     },
     "execution_count": 13,
     "metadata": {},
     "output_type": "execute_result"
    }
   ],
   "source": [
    "#converting list to string\n",
    "data = \"\"\n",
    "for i in lines:\n",
    "    data = ' '.join(lines)\n",
    "\n",
    "data[:50]"
   ]
  },
  {
   "cell_type": "code",
   "execution_count": 14,
   "metadata": {},
   "outputs": [
    {
     "data": {
      "text/plain": [
       "'ሐምሌ 7 ቀን 1971 ዓ ም ዕለተ ቅዳሜ ከታላቁ ቤተ መንግሥት ምድር ቤት እስረ'"
      ]
     },
     "execution_count": 14,
     "metadata": {},
     "output_type": "execute_result"
    }
   ],
   "source": [
    "#replacing unnecessary characters with space\n",
    "data = data.replace('\\n', ' ').replace('.', ' ').replace(\n",
    "    ',', ' ').replace('\"', ' ').replace(';', ' ').replace('!', ' ')\n",
    "data = data.replace('?', ' ').replace('(', ' ').replace(')', ' ').replace(\n",
    "    '--', ' ').replace('።', ' ').replace('፣', ' ')\n",
    "data = data.replace(':', ' ').replace(\n",
    "    '፤', ' ').replace('…', ' ').replace('”', ' ')\n",
    "\n",
    "#remove unnecessary spaces\n",
    "data = data.split()\n",
    "data = ' '.join(data)\n",
    "data[:50]\n"
   ]
  },
  {
   "cell_type": "code",
   "execution_count": 16,
   "metadata": {},
   "outputs": [
    {
     "name": "stdout",
     "output_type": "stream",
     "text": [
      "22001\n"
     ]
    }
   ],
   "source": [
    "print(len(data.split()))"
   ]
  },
  {
   "cell_type": "code",
   "execution_count": 18,
   "metadata": {},
   "outputs": [
    {
     "data": {
      "text/plain": [
       "111487"
      ]
     },
     "execution_count": 18,
     "metadata": {},
     "output_type": "execute_result"
    }
   ],
   "source": [
    "len(data)"
   ]
  },
  {
   "cell_type": "code",
   "execution_count": 21,
   "metadata": {},
   "outputs": [
    {
     "data": {
      "text/plain": [
       "[520, 270, 29, 2783, 57, 51, 1448, 681, 2784, 227, 67, 333, 22, 271, 59]"
      ]
     },
     "execution_count": 21,
     "metadata": {},
     "output_type": "execute_result"
    }
   ],
   "source": [
    "tokenizer = Tokenizer()\n",
    "tokenizer.fit_on_texts([data])\n",
    "\n",
    "#saving the tokenizer for prediction function\n",
    "pickle.dump(tokenizer, open('../token/token.pkl', 'wb'))\n",
    "\n",
    "sequence_data = tokenizer.texts_to_sequences([data])[0]\n",
    "sequence_data[:15]\n"
   ]
  }
 ],
 "metadata": {
  "interpreter": {
   "hash": "fb44f7634b4e701af3f8169b1c84ce89328666fba033e350309163bcea052a2b"
  },
  "kernelspec": {
   "display_name": "Python 3.9.7 64-bit ('base': conda)",
   "language": "python",
   "name": "python3"
  },
  "language_info": {
   "codemirror_mode": {
    "name": "ipython",
    "version": 3
   },
   "file_extension": ".py",
   "mimetype": "text/x-python",
   "name": "python",
   "nbconvert_exporter": "python",
   "pygments_lexer": "ipython3",
   "version": "3.9.7"
  },
  "orig_nbformat": 4
 },
 "nbformat": 4,
 "nbformat_minor": 2
}
